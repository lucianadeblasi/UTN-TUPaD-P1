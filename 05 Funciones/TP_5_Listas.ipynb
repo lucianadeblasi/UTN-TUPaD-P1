{
  "nbformat": 4,
  "nbformat_minor": 0,
  "metadata": {
    "colab": {
      "provenance": []
    },
    "kernelspec": {
      "name": "python3",
      "display_name": "Python 3"
    },
    "language_info": {
      "name": "python"
    }
  },
  "cells": [
    {
      "cell_type": "markdown",
      "source": [
        "<h2>\n",
        "<font color=\"#ffcc01\">\n",
        "<b>\n",
        "PROGRAMACIÓN 1\n",
        "</b>\n",
        "</font>\n",
        "</h2>\n",
        "\n",
        "\n",
        "<h3>\n",
        "<font color=\"#ffcc01\">\n",
        "<b>\n",
        "Trabajo práctico 5: Listas\n",
        "</b>\n",
        "</font>\n",
        "</h3>\n"
      ],
      "metadata": {
        "id": "RmWDtgzqJAnb"
      }
    },
    {
      "cell_type": "markdown",
      "source": [
        "#### **Ejercicio 1**\n",
        "\n",
        "Crear una lista con los números del 1 al 100 que sean múltiplos de 4. Utilizar la función range."
      ],
      "metadata": {
        "id": "T51serlKJheg"
      }
    },
    {
      "cell_type": "code",
      "source": [
        "# Comenzamos el rango en el número 4 ya que sabemos que es el primer múltiplo de 4\n",
        "# Terminamos el rango en 101 para incluir al 100\n",
        "multiplos_de_4 = list(range(4, 101, 4))\n",
        "\n",
        "print(multiplos_de_4)"
      ],
      "metadata": {
        "colab": {
          "base_uri": "https://localhost:8080/"
        },
        "id": "63Dx8Z_eJAbp",
        "outputId": "88c7d3b0-04d4-4ca1-8bb2-59510bf05ccd"
      },
      "execution_count": null,
      "outputs": [
        {
          "output_type": "stream",
          "name": "stdout",
          "text": [
            "[4, 8, 12, 16, 20, 24, 28, 32, 36, 40, 44, 48, 52, 56, 60, 64, 68, 72, 76, 80, 84, 88, 92, 96, 100]\n"
          ]
        }
      ]
    },
    {
      "cell_type": "markdown",
      "source": [
        "#### **Ejercicio 2**\n",
        "\n",
        "Crear una lista con cinco elementos (colocar los elementos que más te gusten) y mostrar el penúltimo. ¡Puedes hacerlo como se muestra en los videos o bien investigar cómo funciona el indexing con números negativos!"
      ],
      "metadata": {
        "id": "zkiyef1TJpxK"
      }
    },
    {
      "cell_type": "code",
      "execution_count": null,
      "metadata": {
        "colab": {
          "base_uri": "https://localhost:8080/"
        },
        "id": "O7PpNxXnI9Bj",
        "outputId": "5cc51272-2917-4273-a1a9-dfb0cb1cbef0"
      },
      "outputs": [
        {
          "output_type": "stream",
          "name": "stdout",
          "text": [
            "amarillo\n"
          ]
        }
      ],
      "source": [
        "# Creamos una lista con 5 elementos cualesquiera\n",
        "colores = [\"rojo\", \"verde\", \"azul\", \"amarillo\", \"violeta\"]\n",
        "\n",
        "# Imprimimos el penúltimo elemento, que será el que se encuentre en el índice número 3\n",
        "print(colores[3])"
      ]
    },
    {
      "cell_type": "code",
      "source": [
        "# Otra manera es utilizar indexing con números negativos\n",
        "colores = [\"rojo\", \"verde\", \"azul\", \"amarillo\", \"violeta\"]\n",
        "\n",
        "# -1 imprimiría el último elemento, entonces -2 imprimirá el penúltimo\n",
        "print(colores[-2])"
      ],
      "metadata": {
        "id": "szekgBZbUjZt"
      },
      "execution_count": null,
      "outputs": []
    },
    {
      "cell_type": "markdown",
      "source": [
        "#### **Ejercicio 3**\n",
        "\n",
        "Crear una lista vacía, agregar tres palabras con append e imprimir la lista resultante por pantalla. Pista: para crear una lista vacía debes colocar los corchetes sin nada en su interior. Por ejemplo:\n",
        "`lista_vacia = []`"
      ],
      "metadata": {
        "id": "94K4Udc0J17x"
      }
    },
    {
      "cell_type": "code",
      "source": [
        "# Creamos una lista vacía\n",
        "lista_vacia = []\n",
        "\n",
        "# Agregamos la primera palabra\n",
        "lista_vacia.append(\"sol\")\n",
        "# Agregamos la segunda palabra\n",
        "lista_vacia.append(\"luna\")\n",
        "# Agregamos la tercera palabra\n",
        "lista_vacia.append(\"Tierra\")\n",
        "\n",
        "print(lista_vacia)"
      ],
      "metadata": {
        "colab": {
          "base_uri": "https://localhost:8080/"
        },
        "id": "KpqXyW5OJ7Q9",
        "outputId": "ab67ca84-ea00-49b3-f329-dc2cc5b3c992"
      },
      "execution_count": null,
      "outputs": [
        {
          "output_type": "stream",
          "name": "stdout",
          "text": [
            "['sol', 'luna', 'Tierra']\n"
          ]
        }
      ]
    },
    {
      "cell_type": "markdown",
      "source": [
        "#### **Ejercicio 4**\n",
        "\n",
        "Reemplazar el segundo y último valor de la lista “animales” con las palabras “loro” y “oso”, respectivamente.  Imprimir la lista resultante por pantalla. ¡Puedes hacerlo como se muestra en los videos o bien investigar cómo funciona el indexing con números negativos!\n",
        "\n",
        "`animales = [\"perro\", \"gato\", \"conejo\", \"pez\"]`\n"
      ],
      "metadata": {
        "id": "FLEpYGFdKIws"
      }
    },
    {
      "cell_type": "code",
      "source": [
        "# Creamos la lista \"animales\"\n",
        "animales = [\"perro\", \"gato\", \"conejo\", \"pez\"]\n",
        "\n",
        "# Reemplazamos el segundo valor (índice = 1) por \"loro\"\n",
        "animales[1] = \"loro\"\n",
        "\n",
        "# Reemplazamos el último valor (índice = 3) por \"loro\"\n",
        "animales[3] = \"oso\"\n",
        "\n",
        "# Imprimimos la lista resultante\n",
        "print(animales)"
      ],
      "metadata": {
        "colab": {
          "base_uri": "https://localhost:8080/"
        },
        "id": "R7Tq5OIjKMq2",
        "outputId": "01e09ca8-7a6e-43fb-f07f-060bcf3c23c0"
      },
      "execution_count": null,
      "outputs": [
        {
          "output_type": "stream",
          "name": "stdout",
          "text": [
            "['perro', 'loro', 'conejo', 'oso']\n"
          ]
        }
      ]
    },
    {
      "cell_type": "code",
      "source": [
        "# Otra manera es utilizar indexing con números negativos\n",
        "animales = [\"perro\", \"gato\", \"conejo\", \"pez\"]\n",
        "\n",
        "animales[1] = \"loro\"\n",
        "# Reemplazamos el último valor (índice = -1) por \"loro\"\n",
        "animales[-1] = \"oso\"\n",
        "\n",
        "print(animales)"
      ],
      "metadata": {
        "colab": {
          "base_uri": "https://localhost:8080/"
        },
        "id": "peVF1lwpWE2C",
        "outputId": "68316c3e-12e2-445a-8d80-20c0d2c18ad0"
      },
      "execution_count": null,
      "outputs": [
        {
          "output_type": "stream",
          "name": "stdout",
          "text": [
            "['perro', 'loro', 'conejo', 'oso']\n"
          ]
        }
      ]
    },
    {
      "cell_type": "markdown",
      "source": [
        "#### **Ejercicio 5**\n",
        "\n",
        "Analizar el siguiente programa y explicar con tus palabras qué es lo que realiza.\n",
        "\n",
        "```\n",
        "numeros = [8, 15, 3, 22, 7]\n",
        "numeros.remove(max(numeros))\n",
        "print(numeros)\n",
        "```\n",
        "\n"
      ],
      "metadata": {
        "id": "j79FEir_K2Vm"
      }
    },
    {
      "cell_type": "markdown",
      "source": [
        "El programa anterior sigue los siguientes pasos:\n",
        "\n",
        "1.   Crea una lista llamada nmeros (línea `numeros = [8, 15, 3, 22, 7]`)\n",
        "2.   Calcula el valor máximo de la lista numeros y lo remueve de la lista (línea `numeros.remove(max(numeros))`). En este caso en particular el valor máximo es 22, por lo que remueve dicho valor de la lista numeros.\n",
        "3.   Imprime por pantalla la lista resultante (línea `print(numeros)`). En este caso, la lista resultante será [8, 15, 3, 7].\n",
        "\n",
        "\n",
        "\n"
      ],
      "metadata": {
        "id": "YZ44AKLwW2Wc"
      }
    },
    {
      "cell_type": "markdown",
      "source": [
        "#### **Ejercicio 6**\n",
        "\n",
        "Crear una lista con números del 10 al 30 (incluído), haciendo saltos de 5 en 5 y mostrar por pantalla los dos primeros."
      ],
      "metadata": {
        "id": "buIjj2i4Lf2U"
      }
    },
    {
      "cell_type": "code",
      "source": [
        "# Creamos un rango del 10 al 30, haciendo saltos de 5 en 5\n",
        "numeros = list(range(10, 31, 5))\n",
        "\n",
        "# Imprimimos por pantalla los dos primeros números\n",
        "print(numeros[0:2])"
      ],
      "metadata": {
        "colab": {
          "base_uri": "https://localhost:8080/"
        },
        "id": "yIfhgxneenB_",
        "outputId": "1979572b-bdf7-448e-b5a7-650445d681ce"
      },
      "execution_count": null,
      "outputs": [
        {
          "output_type": "stream",
          "name": "stdout",
          "text": [
            "[10, 15]\n"
          ]
        }
      ]
    },
    {
      "cell_type": "markdown",
      "source": [
        "#### **Ejercicio 7**\n",
        "\n",
        "eemplazar los dos valores centrales (índices 1 y 2) de la lista “autos” por dos nuevos valores cualesquiera.\n",
        "\n",
        "`autos = [\"sedan\", \"polo\", \"suran\", \"gol\"]`\n"
      ],
      "metadata": {
        "id": "pTTua8NxMSLX"
      }
    },
    {
      "cell_type": "code",
      "source": [
        "# Creamos la lista \"autos\"\n",
        "autos = [\"sedan\", \"polo\", \"suran\", \"gol\"]\n",
        "\n",
        "# Reemplazamos el índice 1\n",
        "autos[1] = \"etios\"\n",
        "\n",
        "# Reemplazamos el índice 2\n",
        "autos[2] = \"hilux\"\n",
        "\n",
        "# Imprimimos la lista resultante\n",
        "print(autos)"
      ],
      "metadata": {
        "colab": {
          "base_uri": "https://localhost:8080/"
        },
        "id": "AMUUUIGwM9h3",
        "outputId": "75004290-2fe6-4f21-8cf1-d1045e0eb707"
      },
      "execution_count": null,
      "outputs": [
        {
          "output_type": "stream",
          "name": "stdout",
          "text": [
            "['sedan', 'etios', 'hilux', 'gol']\n"
          ]
        }
      ]
    },
    {
      "cell_type": "code",
      "source": [
        "# Otra forma: como los índices son consecutivos, podemos reemplazar ambos a la vez\n",
        "autos = [\"sedan\", \"polo\", \"suran\", \"gol\"]\n",
        "\n",
        "# Reemplazamos los índices 1 y 2 a la vez\n",
        "autos[1:3] = [\"etios\", \"hilux\"]\n",
        "\n",
        "print(autos)"
      ],
      "metadata": {
        "colab": {
          "base_uri": "https://localhost:8080/"
        },
        "id": "XkiqRqLbcowb",
        "outputId": "8040a93a-fdec-4a9a-bb18-83396a9b9fc0"
      },
      "execution_count": null,
      "outputs": [
        {
          "output_type": "stream",
          "name": "stdout",
          "text": [
            "['sedan', 'etios', 'hilux', 'gol']\n"
          ]
        }
      ]
    },
    {
      "cell_type": "markdown",
      "source": [
        "#### **Ejercicio 8**\n",
        "\n",
        "Crear una lista vacía llamada \"dobles\" y agregar el doble de 5, 10 y 15 usando append directamente. Imprimir la lista resultante por pantalla."
      ],
      "metadata": {
        "id": "1RRd0JHNOJNS"
      }
    },
    {
      "cell_type": "code",
      "source": [
        "# Creamos la lista vacía\n",
        "dobles = []\n",
        "\n",
        "# Agregamos el doble de 5\n",
        "dobles.append(5 * 2)\n",
        "\n",
        "# Agregamos el doble de 10\n",
        "dobles.append(10 * 2)\n",
        "\n",
        "# Agregamos el doble de 15\n",
        "dobles.append(15 * 2)\n",
        "\n",
        "# Imprimimos la lista resultante por pantalla\n",
        "print(dobles)"
      ],
      "metadata": {
        "colab": {
          "base_uri": "https://localhost:8080/"
        },
        "id": "copA0vR5OURn",
        "outputId": "da2e09d3-06b8-4d1a-f0a9-c4a324e4a25b"
      },
      "execution_count": null,
      "outputs": [
        {
          "output_type": "stream",
          "name": "stdout",
          "text": [
            "[10, 20, 30]\n"
          ]
        }
      ]
    },
    {
      "cell_type": "markdown",
      "source": [
        "#### **Ejercicio 9**\n",
        "\n",
        "Dada la lista “compras”, cuyos elementos representan los productos comprados por diferentes clientes:\n",
        "\n",
        "`compras = [[\"pan\", \"leche\"], [\"arroz\", \"fideos\", \"salsa\"], [\"agua\"]]`\n",
        "\n",
        "a) Agregar \"jugo\" a la lista del tercer cliente usando append.\n",
        "\n",
        "b) Reemplazar \"fideos\" por \"tallarines\" en la lista del segundo cliente.\n",
        "\n",
        "c) Eliminar \"pan\" de la lista del primer cliente.\n",
        "\n",
        "d) Imprimir la lista resultante por pantalla\n"
      ],
      "metadata": {
        "id": "ADDXzTl2OzBj"
      }
    },
    {
      "cell_type": "code",
      "source": [
        "# Creamos la lista \"compras\"\n",
        "compras = [[\"pan\", \"leche\"], [\"arroz\", \"fideos\", \"salsa\"], [\"agua\"]]\n",
        "\n",
        "# Agregamos \"jugo\" a la lista del tercer cliente (compras[2])\n",
        "compras[2].append(\"jugo\")\n",
        "\n",
        "# Reemplazamos \"fideos\" por \"tallarines\" en la lista del segundo cliente (compras[1])\n",
        "compras[1][1] = \"tallarines\"\n",
        "\n",
        "# Eliminamos \"pan\" de la lista del primer cliente (compras[0])\n",
        "compras[0].remove(\"pan\")\n",
        "\n",
        "# Imprimimos la lista resultante\n",
        "print(compras)"
      ],
      "metadata": {
        "colab": {
          "base_uri": "https://localhost:8080/"
        },
        "id": "Mk0W1wB4Yv83",
        "outputId": "f9f95238-a6bd-4345-a51b-9c83440aafc2"
      },
      "execution_count": null,
      "outputs": [
        {
          "output_type": "stream",
          "name": "stdout",
          "text": [
            "[['leche'], ['arroz', 'tallarines', 'salsa'], ['agua', 'jugo']]\n"
          ]
        }
      ]
    },
    {
      "cell_type": "markdown",
      "source": [
        "#### **Ejercicio 10**\n",
        "\n",
        "Elaborar una lista anidada llamada “lista_anidada” que contenga los siguientes elementos:\n",
        "*   Posición lista_anidada[0]: 15\n",
        "*   Posición lista_anidada[1]: True\n",
        "*   Posición lista_anidada[2][0]: 25.5\n",
        "*   Posición lista_anidada[2][1]: 57.9\n",
        "*   Posición lista_anidada[2][2]: 30.6\n",
        "*   Posición lista_anidada[3]: False\n",
        "\n",
        "Imprimir la lista resultante por pantalla."
      ],
      "metadata": {
        "id": "dUEub-1cZWoT"
      }
    },
    {
      "cell_type": "code",
      "source": [
        "# Siguiendo las instrucciones del enunciado tenemos\n",
        "lista_anidada = [15, True, [25.5,57.9,30.6], False]\n",
        "\n",
        "# Imprimimos la lista resultante por pantalla\n",
        "print(lista_anidada)"
      ],
      "metadata": {
        "colab": {
          "base_uri": "https://localhost:8080/"
        },
        "id": "c_NTpkITZGTd",
        "outputId": "5c58bbf8-f09c-4605-81f1-954ba2d6f772"
      },
      "execution_count": null,
      "outputs": [
        {
          "output_type": "stream",
          "name": "stdout",
          "text": [
            "[15, True, [25.5, 57.9, 30.6], False]\n"
          ]
        }
      ]
    }
  ]
}
